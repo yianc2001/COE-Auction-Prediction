{
 "cells": [
  {
   "cell_type": "code",
   "execution_count": 20,
   "metadata": {},
   "outputs": [],
   "source": [
    "import pandas as pd\n",
    "import numpy as np\n",
    "import seaborn as sns\n",
    "import matplotlib.pyplot as plt\n",
    "import plotly.express as px\n",
    "import os"
   ]
  },
  {
   "cell_type": "code",
   "execution_count": 21,
   "metadata": {},
   "outputs": [
    {
     "name": "stdout",
     "output_type": "stream",
     "text": [
      "Burundi\n",
      "Honduras\n",
      "El Salvador\n",
      "Rwanda\n",
      "México\n",
      "Bolivia\n",
      "Indonesia\n",
      "Brazil\n",
      "Colombia\n",
      "Ethiopia\n",
      "Perú\n",
      "Costa Rica\n",
      "Guatemala\n",
      "Nicaragua\n",
      "Ecuador\n"
     ]
    }
   ],
   "source": [
    "country_list = []\n",
    "for dirname, _, filenames in os.walk('./All_by_country'):\n",
    "    for filename in filenames:\n",
    "        txt = os.path.join(dirname, filename)\n",
    "        txt = txt.replace('./All_by_country/', '')\n",
    "        txt = txt.replace('_all.csv', '')\n",
    "        if txt == '.DS_Store':\n",
    "            continue\n",
    "        country_list.append(txt)\n",
    "        print(txt) "
   ]
  },
  {
   "cell_type": "markdown",
   "metadata": {},
   "source": [
    "## Drop NaNs"
   ]
  },
  {
   "cell_type": "code",
   "execution_count": 22,
   "metadata": {},
   "outputs": [],
   "source": [
    "# drop if 'Coffee_characteristics' is nan\n",
    "def drop_nan(df):\n",
    "    df = df.dropna(subset=['Coffee_characteristics'])\n",
    "    return df"
   ]
  },
  {
   "cell_type": "markdown",
   "metadata": {},
   "source": [
    "## Rank"
   ]
  },
  {
   "cell_type": "code",
   "execution_count": 23,
   "metadata": {},
   "outputs": [],
   "source": [
    "def rank(df):\n",
    "    # if its type already is int or float, return it\n",
    "    if df['Rank'].dtype == int or df['Rank'].dtype == float:\n",
    "        return df\n",
    "    df['Rank'] = df['Rank'].str.replace('a', '')\n",
    "    df['Rank'] = df['Rank'].str.replace('A', '')\n",
    "    df['Rank'] = df['Rank'].str.replace('b', '')\n",
    "    df['Rank'] = df['Rank'].str.replace('B', '')\n",
    "    df['Rank'] = df['Rank'].str.replace('c', '')\n",
    "    df['Rank'] = df['Rank'].str.replace('C', '')\n",
    "    df['Rank'] = df['Rank'].astype(int)\n",
    "    return df"
   ]
  },
  {
   "cell_type": "markdown",
   "metadata": {},
   "source": [
    "## Score"
   ]
  },
  {
   "cell_type": "code",
   "execution_count": 24,
   "metadata": {},
   "outputs": [],
   "source": [
    "def score(df):\n",
    "    if df['COE_score'].dtype != float:\n",
    "        df['COE_score'] = df['COE_score'].str.replace(',', '.')\n",
    "        df['COE_score'] = df['COE_score'].astype(float)\n",
    "    return df"
   ]
  },
  {
   "cell_type": "code",
   "execution_count": 25,
   "metadata": {},
   "outputs": [],
   "source": [
    "def plot_score(df, country):\n",
    "    sns.set_style('whitegrid')\n",
    "    sns.distplot(df['COE_score'], bins=30, kde=False)\n",
    "    plt.title(f'Distribution of COE scores in {country}')\n",
    "    plt.xlabel('COE score')\n",
    "    plt.ylabel('Number of coffees')\n",
    "    plt.show()"
   ]
  },
  {
   "cell_type": "markdown",
   "metadata": {},
   "source": [
    "## High bids"
   ]
  },
  {
   "cell_type": "code",
   "execution_count": 26,
   "metadata": {},
   "outputs": [],
   "source": [
    "def high_bid(df):\n",
    "    # clean the price data, remove '$', '/lb' and ','\n",
    "    df['High_bid'] = df['High_bid'].str.replace('$', '')\n",
    "    df['High_bid'] = df['High_bid'].str.replace('/lb', '')\n",
    "    df['High_bid'] = df['High_bid'].str.replace('US', '')\n",
    "    # df['High_bid'] = df['High_bid'].str.replace(',', '')\n",
    "    df['High_bid'] = df['High_bid'].astype(float)\n",
    "    return df"
   ]
  },
  {
   "cell_type": "code",
   "execution_count": 27,
   "metadata": {},
   "outputs": [],
   "source": [
    "def plot_high_bid(df, country):\n",
    "    sns.set_style('whitegrid')\n",
    "    sns.distplot(df['High_bid'], bins=30, kde=False)\n",
    "    plt.title(f'Distribution of High bids in {country}')\n",
    "    plt.xlabel('High bid')\n",
    "    plt.ylabel('Number of coffees')\n",
    "    plt.show()"
   ]
  },
  {
   "cell_type": "markdown",
   "metadata": {},
   "source": [
    "## Total value"
   ]
  },
  {
   "cell_type": "code",
   "execution_count": 28,
   "metadata": {},
   "outputs": [],
   "source": [
    "def total_value(df):\n",
    "    df['Total_value'] = df['Total_value'].str.replace('$', '')\n",
    "    df['Total_value'] = df['Total_value'].str.replace(',', '')\n",
    "    df['Total_value'] = df['Total_value'].str.replace('US', '')\n",
    "    df['Total_value'] = df['Total_value'].str.replace('$.', '')\n",
    "    df['Total_value'] = df['Total_value'].str.replace('\\\\xa0', '')\n",
    "    df['Total_value'] = df['Total_value'].str.strip()\n",
    "    df['Total_value'] = df['Total_value'].astype(float)\n",
    "    return df"
   ]
  },
  {
   "cell_type": "markdown",
   "metadata": {},
   "source": [
    "## Altitude"
   ]
  },
  {
   "cell_type": "code",
   "execution_count": 29,
   "metadata": {},
   "outputs": [],
   "source": [
    "def altitude(df):\n",
    "    # if its type already is int or float, return it\n",
    "    if df['Altitude'].dtype == int or df['Altitude'].dtype == float:\n",
    "        return df\n",
    "    to_remove = [' ','m.a.s.l.','m.a.s.l','m','masl','asl','ass','ts','mts',',',' ','asl','ass']\n",
    "    # if contain '-', keep the latter one\n",
    "    df['Altitude'] = df['Altitude'].str.split('-').str[-1]\n",
    "    df['Altitude'] = df['Altitude'].str.strip()\n",
    "    for r in to_remove:\n",
    "        df['Altitude'] = df['Altitude'].str.replace(r, '')\n",
    "    # if got '', let it be nan\n",
    "    df['Altitude'] = df['Altitude'].replace('', np.nan)\n",
    "    # if it's not nan, convert to float\n",
    "    df['Altitude'] = pd.to_numeric(df['Altitude'], errors='coerce')\n",
    "    # if it's over 3000 convert from feet to meters\n",
    "    df.loc[df['Altitude'] > 3500, 'Altitude'] = df.loc[df['Altitude'] > 3500, 'Altitude'] * 0.3048\n",
    "\n",
    "    return df"
   ]
  },
  {
   "cell_type": "code",
   "execution_count": 30,
   "metadata": {},
   "outputs": [],
   "source": [
    "def plot_altitude(df, country):\n",
    "    sns.set_style('whitegrid')\n",
    "    sns.distplot(df['Altitude'], bins=30, kde=False)\n",
    "    plt.title(f'Distribution of Altitude of {country}')\n",
    "    plt.xlabel('Altitude')\n",
    "    plt.ylabel('Number of coffees')\n",
    "    plt.show()"
   ]
  },
  {
   "cell_type": "markdown",
   "metadata": {},
   "source": [
    "## Flavor"
   ]
  },
  {
   "cell_type": "code",
   "execution_count": 31,
   "metadata": {},
   "outputs": [],
   "source": [
    "def flavor(df):\n",
    "    df['Coffee_characteristics'].fillna('', inplace=True)\n",
    "    df['Flavor'].fillna('', inplace=True)\n",
    "    df['Acidity'].fillna('', inplace=True)\n",
    "\n",
    "    df['Coffee_characteristics'].astype(str)\n",
    "    df['Coffee_characteristics'] = df['Coffee_characteristics'].str.lower()\n",
    "    df['Flavor'] = df['Flavor'].astype(str).str.lower()\n",
    "    df['Acidity'] = df['Acidity'].astype(str).str.lower()\n",
    "\n",
    "    # remove '(' , ')', and numbers\n",
    "    to_remove = ['(', ')', '1', '2', '3', '4', '5', '6', '7', '8', '9', '0']\n",
    "    for r in to_remove:\n",
    "        df['Coffee_characteristics'] = df['Coffee_characteristics'].str.replace(r, '')\n",
    "        df['Flavor'] = df['Flavor'].str.replace(r, '')\n",
    "        df['Acidity'] = df['Acidity'].str.replace(r, '')\n",
    "\n",
    "    # there are some characteristics a coffee good to have: Clean Cup, Balenced Cup, Transparent Cup, Creamy Body, Big Body, Long Aftertaste,\n",
    "    clean_words = ['clean', 'clear']\n",
    "    balanced_words = ['balance', 'balanced', 'hamonious','consistent']\n",
    "    transparent_words = ['transparent']\n",
    "    creamy_words = ['creamy', 'cream', 'buttery', 'butter']\n",
    "    big_words = ['big', 'full', 'heavy', 'thick', 'dense']\n",
    "    long_words = ['long', 'lasting', 'persistent', 'prolong', 'lingering', 'silky']\n",
    "    # Convert lists to regular expressions\n",
    "    clean_regex = '|'.join(clean_words)\n",
    "    balanced_regex = '|'.join(balanced_words)\n",
    "    transparent_regex = '|'.join(transparent_words)\n",
    "    creamy_regex = '|'.join(creamy_words)\n",
    "    big_regex = '|'.join(big_words)\n",
    "    long_regex = '|'.join(long_words)\n",
    "    # if the coffee has the characteristics, then 1 in the col, otherwise 0\n",
    "    df['Clean_and_clear'] = df['Coffee_characteristics'].str.contains(clean_regex).astype(int)\n",
    "    df['Balance_cup'] = df['Coffee_characteristics'].str.contains(balanced_regex).astype(int)\n",
    "    df['Transparent_cup'] = df['Coffee_characteristics'].str.contains(transparent_regex).astype(int)\n",
    "    df['Creamy_body'] = df['Coffee_characteristics'].str.contains(creamy_regex).astype(int)\n",
    "    df['Big_body'] = df['Coffee_characteristics'].str.contains(big_regex).astype(int)\n",
    "    df['Long_aftertaste'] = df['Coffee_characteristics'].str.contains(long_regex).astype(int)\n",
    "\n",
    "    # divide into Roasted flavor, Spices flavor, Nutty/cocoa flavor, Sweet flavor, Floral flavor, Fruity flavor, and Green Vegetative flavor\n",
    "    roast_words = ['roasted', 'roasty', 'roast', 'burnt', 'burnt', 'smoky', 'cereal', 'ashy', 'tabacco', 'grain']\n",
    "    spices_words = ['spices', 'spice', 'cinnamon', 'clove', 'pepper', 'anise', 'nutmeg']\n",
    "    cocoa_words = ['cocoa', 'cacao', 'chocolate', 'chocolaty', 'chocolatey','peanut', 'almond', 'hazelnut', 'nutty', 'nut', 'walnut', 'marzipan', 'praline', 'caramel', 'butterscotch', 'toffee']\n",
    "    sweet_words = ['sweet', 'sugar', 'honey', 'maple','caramel','caramelized', 'syrup', 'malt', 'sugarcane']\n",
    "    floral_words = ['floral', 'flower', 'rose', 'jasmine', 'lavender', 'lilac', 'hibiscus', 'chamomile', 'honeysuckle', 'blossom']\n",
    "    fruity_words = ['raisin','fruit', 'fruity', 'berry', 'blueberry', 'blackberry', 'raspberry', 'strawberry', 'cranberry', 'cherry', 'redcurrant','grape','apple','peach','mango','grapefruit','lemon','lime','orange','tangerine','apricot','plum','prune','raisin','papaya','pineapple','banana','coconut','passionfruit','lychee','melon','apricot']\n",
    "    green_vege_words = ['green', 'vegetative', 'vegetable', 'herb', 'herbal', 'grass', 'grassy', 'olive', 'seeds']\n",
    "    wine_words = ['wine', 'winey', 'fermented', 'ferment', 'fermentation', 'wiskey', 'rum']\n",
    "    # Convert lists to regular expressions\n",
    "    roast_regex = '|'.join(roast_words)\n",
    "    spices_regex = '|'.join(spices_words)\n",
    "    cocoa_regex = '|'.join(cocoa_words)\n",
    "    sweet_regex = '|'.join(sweet_words)\n",
    "    floral_regex = '|'.join(floral_words)\n",
    "    fruity_regex = '|'.join(fruity_words)\n",
    "    green_vege_regex = '|'.join(green_vege_words)\n",
    "    wine_regex = '|'.join(wine_words)\n",
    "    # if the coffee has the characteristics, then +1 in the col, otherwise +0\n",
    "    df['Roasted_flavor'] = df['Coffee_characteristics'].str.count(roast_regex).astype(int)\n",
    "    df['Spices_flavor'] = df['Coffee_characteristics'].str.count(spices_regex).astype(int)\n",
    "    df['NuttyCocoa_flavor'] = df['Coffee_characteristics'].str.count(cocoa_regex).astype(int)\n",
    "    df['Sweet_flavor'] = df['Coffee_characteristics'].str.count(sweet_regex).astype(int)\n",
    "    df['Floral_flavor'] = df['Coffee_characteristics'].str.count(floral_regex).astype(int)\n",
    "    df['Fruity_flavor'] = df['Coffee_characteristics'].str.count(fruity_regex).astype(int)\n",
    "    df['GreenVegetative_flavor'] = df['Coffee_characteristics'].str.count(green_vege_regex).astype(int)\n",
    "    df['Winey_flavor'] = df['Coffee_characteristics'].str.count(wine_regex).astype(int)\n",
    "\n",
    "    # do the same thing for flavor \n",
    "    df['Roasted_flavor'] += df['Flavor'].str.count(roast_regex).astype(int)\n",
    "    df['Spices_flavor'] += df['Flavor'].str.count(spices_regex).astype(int)\n",
    "    df['NuttyCocoa_flavor'] += df['Flavor'].str.count(cocoa_regex).astype(int)\n",
    "    df['Sweet_flavor'] += df['Flavor'].str.count(sweet_regex).astype(int)\n",
    "    df['Floral_flavor'] += df['Flavor'].str.count(floral_regex).astype(int)\n",
    "    df['Fruity_flavor'] += df['Flavor'].str.count(fruity_regex).astype(int)\n",
    "    df['GreenVegetative_flavor'] += df['Flavor'].str.count(green_vege_regex).astype(int)\n",
    "    df['Winey_flavor'] += df['Flavor'].str.count(wine_regex).astype(int)\n",
    "\n",
    "\n",
    "    # divide acidity into: Malic, Citric, Tartaric, Lactic, Complex\n",
    "    malic_words = ['malic', 'apple', 'green apple']\n",
    "    citric_words = ['citric', 'lemon', 'lime', 'citrus', 'mandarin']\n",
    "    tartaric_words = ['tartaric', 'grape', 'grapefruit']\n",
    "    lactic_words = ['lactic', 'milk', 'milk chocolate']\n",
    "    complex_words = ['complex', 'complexity']\n",
    "    # Convert lists to regular expressions\n",
    "    malic_regex = '|'.join(malic_words)\n",
    "    citric_regex = '|'.join(citric_words)\n",
    "    tartaric_regex = '|'.join(tartaric_words)\n",
    "    lactic_regex = '|'.join(lactic_words)\n",
    "    complex_regex = '|'.join(complex_words)\n",
    "    # if the coffee has the characteristics, then +1 in the col, otherwise +0\n",
    "    df['Malic_acidity'] = df['Acidity'].str.count(malic_regex).astype(int)\n",
    "    df['Citric_acidity'] = df['Acidity'].str.count(citric_regex).astype(int)\n",
    "    df['Tartaric_acidity'] = df['Acidity'].str.count(tartaric_regex).astype(int)\n",
    "    df['Lactic_acidity'] = df['Acidity'].str.count(lactic_regex).astype(int)\n",
    "    df['Complex_acidity'] = df['Acidity'].str.count(complex_regex).astype(int)\n",
    "    df['Winey_flavor'] += df['Acidity'].str.count(wine_regex).astype(int)\n",
    "    return df"
   ]
  },
  {
   "cell_type": "markdown",
   "metadata": {},
   "source": [
    "## Process"
   ]
  },
  {
   "cell_type": "code",
   "execution_count": 32,
   "metadata": {},
   "outputs": [],
   "source": [
    "def process(df):\n",
    "    main_process = ['washed', 'natural', 'honey', 'anaerobic', 'wet hulled']\n",
    "    df['Process'] = df['Process'].str.lower()\n",
    "    df['Process'].fillna('', inplace=True)\n",
    "    df['Process'] = df['Process'].str.replace('coffee', '')\n",
    "    df['Process'] = df['Process'].str.replace(',', '')\n",
    "    # if the first letter or the last letter is ' ', remove it\n",
    "    df['Process'] = df['Process'].str.strip()\n",
    "    ## anaerobic\n",
    "    # replace 'anaerobico', 'natural anaerobic', 'anaerobic washed', 'anaerobic honey', 'washed anaerobic', 'honey anearobic' with 'anaerobic'\n",
    "    to_replace = ['anaerobico', 'natural anaerobic', 'anaerobic washed', 'anaerobic honey', 'washed anaerobic', 'honey anaerobic']\n",
    "    for r in to_replace:\n",
    "        df['Process'] = df['Process'].str.replace(r, 'anaerobic')\n",
    "    ## wet uulled\n",
    "    # if contais 'depulped' or 'wet uulled', replace it with 'depulped'\n",
    "    df.loc[df['Process'].str.contains('depulped'), 'Process'] = 'wet hulled'\n",
    "    df.loc[df['Process'].str.contains('wet hulled'), 'Process'] = 'wet hulled'\n",
    "    ## others\n",
    "    # if the process is not in the main process, replace it with 'others'\n",
    "    df.loc[~df['Process'].isin(main_process), 'Process'] = 'others_process'\n",
    "    \n",
    "    return df"
   ]
  },
  {
   "cell_type": "markdown",
   "metadata": {},
   "source": [
    "## Variety"
   ]
  },
  {
   "cell_type": "code",
   "execution_count": 33,
   "metadata": {},
   "outputs": [],
   "source": [
    "correcting_dic = {\n",
    "        'gesha': 'Geisha', \n",
    "        'Gesha': 'Geisha',\n",
    "        'bourbón': 'Bourbon',\n",
    "        'Bourbón': 'Bourbon',\n",
    "        'catuaí': 'Catuai',\n",
    "        'Catuaí': 'Catuai',\n",
    "        'sl34': 'sl-34',\n",
    "        'sl 34': 'sl-34',\n",
    "        'sl28': 'sl-28',\n",
    "        'sl 28': 'sl-28',\n",
    "        'yellow bourbon': 'Yellow_Bourbon',\n",
    "        'red bourbon': 'Red_Bourbon',\n",
    "        'pink bourbon': 'Pink_Bourbon'}\n",
    "\n",
    "varieties_wanted = ['geisha', 'pacamara', 'catuai', 'caturra', 'bourbon', 'typica', 'sl-28', 'sl-34', 'colombia', '74112', '74110', '74158']\n",
    "\n",
    "def variety(df):\n",
    "\n",
    "    # variety category\n",
    "    # print('Variety category')\n",
    "    # print(df['Variety'].unique())\n",
    "\n",
    "    # correct spelling\n",
    "    df['Variety'] = df['Variety'].astype(str)\n",
    "\n",
    "    for key, value in correcting_dic.items():\n",
    "        df['Variety'] = df['Variety'].str.replace(key, value)\n",
    "    \n",
    "    df['Variety'] = df['Variety'].apply(lambda x: x.replace('á', 'a'))\n",
    "    df['Variety'] = df['Variety'].apply(lambda x: x.replace('ã', 'a'))\n",
    "    df['Variety'] = df['Variety'].apply(lambda x: x.replace('é', 'e'))\n",
    "    df['Variety'] = df['Variety'].apply(lambda x: x.replace('í', 'i'))\n",
    "    df['Variety'] = df['Variety'].apply(lambda x: x.replace('ó', 'o'))\n",
    "    df['Variety'] = df['Variety'].apply(lambda x: x.replace('ú', 'u'))\n",
    "    df['Variety'] = df['Variety'].apply(lambda x: x.replace('ñ', 'n'))\n",
    "\n",
    "    df['Variety'] = df['Variety'].apply(lambda x: x.replace('Catucai', 'Catuai'))\n",
    "    df['Variety'] = df['Variety'].apply(lambda x: x.replace('Cauai', 'Catuai'))\n",
    "    df['Variety'] = df['Variety'].apply(lambda x: x.replace('Catui', 'Catuai'))\n",
    "    df['Variety'] = df['Variety'].apply(lambda x: x.replace('Cataui', 'Catuai'))\n",
    "\n",
    "    df['Variety'] = df['Variety'].apply(lambda x: x.replace('Tipica', 'Typica'))\n",
    "    df['Variety'] = df['Variety'].apply(lambda x: x.replace('TIPICA', 'Typica'))\n",
    "\n",
    "    df['Variety'] = df['Variety'].apply(lambda x: x.replace('GESHA', 'Geisha'))\n",
    "\n",
    "    df['Variety'] = df['Variety'].apply(lambda x: x.replace('Borbon', 'Bourbon'))\n",
    "\n",
    "    df['Variety'] = df['Variety'].apply(lambda x: x.replace('SL-28', 'sl-28'))\n",
    "    df['Variety'] = df['Variety'].apply(lambda x: x.replace('SL28', 'sl-28'))\n",
    "    df['Variety'] = df['Variety'].apply(lambda x: x.replace('SL 28', 'sl-28'))\n",
    "    df['Variety'] = df['Variety'].apply(lambda x: x.replace('SL-34', 'sl-34'))\n",
    "    df['Variety'] = df['Variety'].apply(lambda x: x.replace('SL34', 'sl-34'))\n",
    "    df['Variety'] = df['Variety'].apply(lambda x: x.replace('SL 34', 'sl-34'))\n",
    "\n",
    "    # print('Variety category after correcting')\n",
    "    # print(df['Variety'].unique())\n",
    "\n",
    "    # wanted varieties dummy col\n",
    "    for v in varieties_wanted:\n",
    "        df[v] = df['Variety'].apply(lambda x: 1 if v in x or v.capitalize() in x or v.upper() in x else 0)\n",
    "    \n",
    "    # mixed_variety dummy col\n",
    "    df['mixed_variety'] = df['geisha'] + df['pacamara'] + df['catuai'] + df['caturra'] + df['bourbon'] + df['typica'] + df['sl-28'] + df['sl-34'] + df['colombia'] + df['74112'] + df['74110'] + df['74158']\n",
    "    df['mixed_variety'] = df['mixed_variety'].apply(lambda x: 1 if x>1 else 0)\n",
    "    \n",
    "    return df"
   ]
  },
  {
   "cell_type": "code",
   "execution_count": 34,
   "metadata": {},
   "outputs": [],
   "source": [
    "def plot_variety(df, country):\n",
    "    sns.set_style('whitegrid')\n",
    "    sns.countplot(x='Process', data=df)\n",
    "    plt.title(f'Number of coffees of each process in {country}')\n",
    "    plt.xlabel('Process')\n",
    "    plt.ylabel('Number of coffees')\n",
    "    plt.show()"
   ]
  },
  {
   "cell_type": "markdown",
   "metadata": {},
   "source": [
    "## To CSV"
   ]
  },
  {
   "cell_type": "code",
   "execution_count": 35,
   "metadata": {},
   "outputs": [],
   "source": [
    "def save_to_csv(df, country):\n",
    "    cols_we_want = ['Rank', 'Country', 'Year','COE_score', 'Farm', 'High_bid', 'Total_value', 'Company',\n",
    "       'Farmer/Rep.', 'Altitude', 'City', 'Region','Process',\n",
    "       'Clean_and_clear', 'Balance_cup', 'Transparent_cup', 'Creamy_body', 'Big_body', 'Long_aftertaste', \n",
    "       'Roasted_flavor', 'Spices_flavor', 'NuttyCocoa_flavor', 'Sweet_flavor', 'Floral_flavor', 'Fruity_flavor', 'GreenVegetative_flavor', 'Winey_flavor',\n",
    "       'Malic_acidity', 'Citric_acidity', 'Tartaric_acidity', 'Lactic_acidity','Complex_acidity', \n",
    "       'geisha', 'pacamara', 'catuai', 'caturra', 'bourbon', 'typica', 'sl-28', 'sl-34', 'colombia', '74112', '74110', '74158', 'mixed_variety']\n",
    "    df = df[cols_we_want]\n",
    "    df.to_csv(f'All_cleaned_v2/{country}_cleaned_v2.csv')"
   ]
  },
  {
   "cell_type": "markdown",
   "metadata": {},
   "source": [
    "-----"
   ]
  },
  {
   "cell_type": "code",
   "execution_count": 36,
   "metadata": {},
   "outputs": [
    {
     "name": "stdout",
     "output_type": "stream",
     "text": [
      "Burundi\n",
      "Honduras\n",
      "El Salvador\n",
      "Rwanda\n",
      "México\n"
     ]
    },
    {
     "name": "stdout",
     "output_type": "stream",
     "text": [
      "Indonesia\n",
      "Brazil\n",
      "Colombia\n",
      "Ethiopia\n",
      "Perú\n",
      "Costa Rica\n",
      "Guatemala\n",
      "Nicaragua\n",
      "Ecuador\n",
      "all done\n"
     ]
    }
   ],
   "source": [
    "for c in country_list:\n",
    "    country = c\n",
    "    if country == 'Bolivia':\n",
    "        continue\n",
    "    print(country)\n",
    "    df = pd.read_csv(f'All_by_country/{country}_all.csv')\n",
    "    df = drop_nan(df)\n",
    "    df = rank(df)\n",
    "    df = score(df)\n",
    "    df = high_bid(df)\n",
    "    df = total_value(df)\n",
    "    df = altitude(df)\n",
    "    df = flavor(df)\n",
    "    df = process(df)\n",
    "    df = variety(df)\n",
    "    # plot_score(df, country)\n",
    "    # plot_altitude(df, country)\n",
    "    # plot_high_bid(df, country)\n",
    "    # plot_variety(df, country)\n",
    "    save_to_csv(df, country)\n",
    "    # print('done')\n",
    "print('all done')"
   ]
  },
  {
   "cell_type": "markdown",
   "metadata": {},
   "source": [
    "## note\n",
    "- Indonesia - total value: manually change one data that returns : ```could not convert string to float: '.\\xa0 \\xa0 \\xa0 \\xa0 \\xa0 \\xa0 \\xa0 11964.53'```\n",
    "- Ethiopia - Year: some are missing, manually fill with 2020\n",
    "- Costa Rica - Year: some are missing, manually fill with 2023\n",
    "- Guatemala - Year: one is missing, manually fill with 2019\n",
    "- Honduras - Year: one is missing, manually fill with 2023\n"
   ]
  }
 ],
 "metadata": {
  "kernelspec": {
   "display_name": "Python 3",
   "language": "python",
   "name": "python3"
  },
  "language_info": {
   "codemirror_mode": {
    "name": "ipython",
    "version": 3
   },
   "file_extension": ".py",
   "mimetype": "text/x-python",
   "name": "python",
   "nbconvert_exporter": "python",
   "pygments_lexer": "ipython3",
   "version": "3.11.4"
  }
 },
 "nbformat": 4,
 "nbformat_minor": 2
}
